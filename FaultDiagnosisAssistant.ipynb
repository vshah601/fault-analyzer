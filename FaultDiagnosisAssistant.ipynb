{
 "cells": [
  {
   "cell_type": "code",
   "execution_count": 1,
   "id": "45216b86-2adc-477d-b0a2-1f1c9f9ab842",
   "metadata": {},
   "outputs": [],
   "source": [
    "import os\n",
    "import json\n",
    "from dotenv import load_dotenv\n",
    "from openai import OpenAI\n",
    "import gradio as gr\n",
    "import numpy as np\n",
    "import math\n",
    "import cmath"
   ]
  },
  {
   "cell_type": "code",
   "execution_count": 2,
   "id": "4478e13b-3f9a-42e2-9db9-474bbc75a771",
   "metadata": {},
   "outputs": [
    {
     "name": "stdout",
     "output_type": "stream",
     "text": [
      "OpenAI API Key exists and begins sk-proj-\n"
     ]
    }
   ],
   "source": [
    "# Initialization\n",
    "load_dotenv(override=True)\n",
    "\n",
    "openai_api_key = os.getenv('OPENAI_API_KEY')\n",
    "if openai_api_key:\n",
    "    print(f\"OpenAI API Key exists and begins {openai_api_key[:8]}\")\n",
    "else:\n",
    "    print(\"OpenAI API Key not set\")\n",
    "    \n",
    "MODEL = \"gpt-4o-mini\"\n",
    "openai = OpenAI()"
   ]
  },
  {
   "cell_type": "code",
   "execution_count": 3,
   "id": "cbef8445-1637-4410-a239-abbbf2586de7",
   "metadata": {},
   "outputs": [],
   "source": [
    "def parse_complex(current):\n",
    "    try:\n",
    "        current = current.replace(\" \", \"\").replace(\"A\", \"\")\n",
    "        complex_current = complex(current)\n",
    "        return complex_current\n",
    "        \n",
    "    except Exception as e:\n",
    "        return {\"error\": str(e)}  # Only if it fails\n",
    "\n",
    "def complex_to_dict(c):\n",
    "    return {\"real\": c.real, \"imag\": c.imag}\n",
    "\n",
    "def dict_to_complex(d):\n",
    "        real = float(d[\"real\"])\n",
    "        imag = float(d[\"imag\"])\n",
    "        return complex(real, imag)\n",
    "\n",
    "def complex_to_string(c):\n",
    "    return f\"{c.real}+{c.imag}j\" if c.imag >= 0 else f\"{c.real}{c.imag}j\""
   ]
  },
  {
   "cell_type": "code",
   "execution_count": 4,
   "id": "02cbd48d-1545-4a79-9ca6-2e84fa086c8e",
   "metadata": {},
   "outputs": [],
   "source": [
    "def compute_sequence_components_tool(Ia, Ib, Ic):\n",
    "    \n",
    "    a = complex(-.5, 2.094)\n",
    "\n",
    "    Ia = parse_complex(Ia)\n",
    "    Ib = parse_complex(Ib)\n",
    "    Ic = parse_complex(Ic)\n",
    "    \n",
    "    I0 = (Ia + Ib + Ic) / 3\n",
    "    I1 = (Ia + (a*Ib) + ((a*a)*Ic)) / 3\n",
    "    I2 = (Ia + ((a*a)*Ib) + (a*Ic)) / 3\n",
    "\n",
    "    return {\n",
    "        \"I0\": complex_to_string(I0),\n",
    "        \"I1\": complex_to_string(I1),\n",
    "        \"I2\": complex_to_string(I2),\n",
    "    }"
   ]
  },
  {
   "cell_type": "code",
   "execution_count": 5,
   "id": "aa6d4a52-b706-46d9-b721-d651a451f6c8",
   "metadata": {},
   "outputs": [],
   "source": [
    "def identify_fault_type_tool(I0, I1, I2):\n",
    "\n",
    "    I0 = parse_complex(I0)\n",
    "    I1 = parse_complex(I1)\n",
    "    I2 = parse_complex(I2)\n",
    "\n",
    "    magI0 = abs(I0)\n",
    "    magI1 = abs(I1)\n",
    "    magI2 = abs(I2)\n",
    "    \n",
    "    threshold = .01\n",
    "    fault_type = \"\"\n",
    "\n",
    "    if magI0 < threshold and magI2 < threshold:\n",
    "        fault_type = \"Three-phase fault\"\n",
    "    if magI0 < threshold and magI2 > threshold:\n",
    "        fault_type = \"Line-to-line fault\"\n",
    "    if magI0 > threshold and magI2 > threshold:\n",
    "        fault_type = \"Line-to-ground or Double-line-to-ground fault\"\n",
    "        \n",
    "    return fault_type"
   ]
  },
  {
   "cell_type": "code",
   "execution_count": 6,
   "id": "fc66f69d-52b8-462f-a25c-59d2bb980d12",
   "metadata": {},
   "outputs": [],
   "source": [
    "tools = [\n",
    "{\n",
    "    \"type\": \"function\",\n",
    "    \"function\": {\n",
    "        \"name\": \"compute_sequence_components_tool\",\n",
    "        \"description\": \"Calculate sequence components given phase currents. Call whenever you need to calculate sequence components. Should only be called once\",\n",
    "        \"parameters\": {\n",
    "            \"type\": \"object\",\n",
    "            \"properties\": {\n",
    "                \"Ia\": {\"type\": \"string\"},\n",
    "                \"Ib\": {\"type\": \"string\"},\n",
    "                \"Ic\": {\"type\": \"string\"}\n",
    "            },\n",
    "            \"required\": [\"Ia\", \"Ib\", \"Ic\"]\n",
    "        }\n",
    "    }\n",
    "},\n",
    "{\n",
    "    \"type\": \"function\",\n",
    "    \"function\": {\n",
    "        \"name\": \"identify_fault_type_tool\",\n",
    "        \"description\": \"Identify fault type given sequence currents. Call whenever you need to classify fault type\",\n",
    "        \"parameters\": {\n",
    "            \"type\": \"object\",\n",
    "            \"properties\": {\n",
    "                \"I0\": {\"type\": \"string\"},\n",
    "                \"I1\": {\"type\": \"string\"},\n",
    "                \"I2\": {\"type\": \"string\"}\n",
    "            },\n",
    "            \"required\": [\"I0\", \"I1\", \"I2\"]\n",
    "        }\n",
    "    }\n",
    "}\n",
    "]"
   ]
  },
  {
   "cell_type": "code",
   "execution_count": 7,
   "id": "9687ea34-bfb9-4ce0-8c8c-0778438bbf3b",
   "metadata": {},
   "outputs": [],
   "source": [
    "def handle_tool_calls(message):\n",
    "    tool_responses = []\n",
    "    for tool_call in message.tool_calls:\n",
    "        tool_name = tool_call.function.name\n",
    "        arguments = json.loads(tool_call.function.arguments)\n",
    "    \n",
    "        if tool_name == \"compute_sequence_components_tool\":\n",
    "            Ia = arguments.get('Ia')\n",
    "            Ib = arguments.get('Ib')\n",
    "            Ic = arguments.get('Ic')\n",
    "            \n",
    "            result = compute_sequence_components_tool(Ia, Ib, Ic)\n",
    "\n",
    "            I0 = result[\"I0\"]\n",
    "            I1 = result[\"I1\"]\n",
    "            I2 = result[\"I2\"]\n",
    "            \n",
    "            tool_response = {\n",
    "                \"role\": \"tool\",\n",
    "                \"content\": json.dumps({\"Ia\": Ia, \"Ib\": Ib, \"Ic\": Ic, \"I0\": I0,\"I1\": I1, \"I2\": I2}),\n",
    "                \"tool_call_id\": tool_call.id\n",
    "            }\n",
    "            \n",
    "        elif tool_name == \"identify_fault_type_tool\":\n",
    "            I0 = arguments.get('I0')\n",
    "            I1 = arguments.get('I1')\n",
    "            I2 = arguments.get('I2')\n",
    "    \n",
    "            fault_type = identify_fault_type_tool(I0, I1, I2)\n",
    "            tool_response = {\n",
    "                \"role\": \"tool\",\n",
    "                \"content\": json.dumps({\"I0\": I0, \"I1\": I1, \"I2\": I2, \"fault_type\": fault_type}),\n",
    "                \"tool_call_id\": tool_call.id\n",
    "            }\n",
    "            \n",
    "        tool_responses.append(tool_response)\n",
    "        \n",
    "    return tool_responses \n",
    "                                  \n",
    "                                   "
   ]
  },
  {
   "cell_type": "code",
   "execution_count": 8,
   "id": "f7b53300-412d-4c4f-ac04-d6aa791eeb03",
   "metadata": {},
   "outputs": [
    {
     "name": "stderr",
     "output_type": "stream",
     "text": [
      "<>:20: SyntaxWarning: invalid escape sequence '\\('\n",
      "<>:20: SyntaxWarning: invalid escape sequence '\\('\n",
      "/var/folders/k6/9rxvgg1x49q49jdz4pd13m8c0000gn/T/ipykernel_77265/1507181550.py:20: SyntaxWarning: invalid escape sequence '\\('\n",
      "  \"Also, when writing any value, display without putting value in '\\(\\)' format\"\n"
     ]
    }
   ],
   "source": [
    "system_message = \\\n",
    "    \"You are an expert power engineer. You are given voltage and current data for a \\\n",
    "    three phase system. Analyze the data and explain what fault has likely occured.\" \n",
    "\n",
    "def get_user_prompt(Ia, Ib, Ic):\n",
    "    prompt = (\n",
    "        \"Given these three phase currents:\\n\"\n",
    "        f\"Phase A current: {Ia} A\\n\"\n",
    "        f\"Phase B current: {Ib} A\\n\"\n",
    "        f\"Phase C current: {Ic} A\\n\\n\"\n",
    "        \"Analyze the phase currents and classify the fault.\\n\\n\"\n",
    "        \"Answer in this order, including the step numbers indicated:\\n\"\n",
    "        \"1. Compute sequence currents and display\\n\"\n",
    "        \"2. Using computed sequence currents, identify fault and display. Also show magnitudes of sequence components\\n\"\n",
    "        \"Show magnitudes before identifying the fault type and then show the inequality which you used to determine the fault type\\n\"\n",
    "        \"3. Briefly Explain possible solutions to the fault.\\n\"\n",
    "        \"\\n\"\n",
    "        \"\\n\"\n",
    "        \"Another note, do not explicity write out the steps you are taking.\\n\"\n",
    "        \"Also, when writing any value, display without putting value in '\\(\\)' format\"\n",
    "    )\n",
    "    \n",
    "    return prompt"
   ]
  },
  {
   "cell_type": "code",
   "execution_count": 9,
   "id": "84ab2cc5-26e7-4def-8ce9-d60b62c83291",
   "metadata": {},
   "outputs": [],
   "source": [
    "def gradio_fn(Ia, Ib, Ic):\n",
    "    messages = [\n",
    "        {\"role\": \"system\", \"content\": system_message},\n",
    "        {\"role\": \"user\", \"content\": get_user_prompt(Ia, Ib, Ic)}\n",
    "    ]\n",
    "\n",
    "    while True:\n",
    "        response = openai.chat.completions.create(\n",
    "            model=MODEL,\n",
    "            messages=messages,\n",
    "            tools=tools,\n",
    "            tool_choice=\"auto\"\n",
    "        )\n",
    "\n",
    "        message = response.choices[0].message\n",
    "\n",
    "        if response.choices[0].finish_reason != \"tool_calls\":\n",
    "            break\n",
    "\n",
    "        messages.append(message)\n",
    "\n",
    "        tool_responses = handle_tool_calls(message)\n",
    "        messages.extend(tool_responses)\n",
    "        \n",
    "    stream = openai.chat.completions.create(\n",
    "        model = MODEL,\n",
    "        messages=messages,\n",
    "        stream = True)\n",
    "\n",
    "    stream_response = \"\"\n",
    "    for chunk in stream:\n",
    "        stream_response += chunk.choices[0].delta.content or ''\n",
    "        yield stream_response"
   ]
  },
  {
   "cell_type": "code",
   "execution_count": 10,
   "id": "d39712d2-902e-45a8-bbc2-96dd78f9e406",
   "metadata": {},
   "outputs": [
    {
     "name": "stdout",
     "output_type": "stream",
     "text": [
      "* Running on local URL:  http://127.0.0.1:7860\n",
      "* To create a public link, set `share=True` in `launch()`.\n"
     ]
    },
    {
     "data": {
      "text/html": [
       "<div><iframe src=\"http://127.0.0.1:7860/\" width=\"100%\" height=\"500\" allow=\"autoplay; camera; microphone; clipboard-read; clipboard-write;\" frameborder=\"0\" allowfullscreen></iframe></div>"
      ],
      "text/plain": [
       "<IPython.core.display.HTML object>"
      ]
     },
     "metadata": {},
     "output_type": "display_data"
    },
    {
     "data": {
      "text/plain": []
     },
     "execution_count": 10,
     "metadata": {},
     "output_type": "execute_result"
    }
   ],
   "source": [
    "interface = gr.Interface(\n",
    "    fn=gradio_fn,\n",
    "    inputs=[\n",
    "        gr.Textbox(label=\"Current A (A)\"),\n",
    "        gr.Textbox(label=\"Current B (A)\"),\n",
    "        gr.Textbox(label=\"Current C (A)\"),\n",
    "    ],\n",
    "    outputs=gr.Textbox(label=\"Analysis Output\", lines=28),\n",
    "    title=\"Power System Fault Diagnosis Assistant\",\n",
    "    description=\"Enter current readings during a fault to analyze likely cause\",\n",
    ")\n",
    "\n",
    "interface.launch()"
   ]
  }
 ],
 "metadata": {
  "kernelspec": {
   "display_name": "Python 3 (ipykernel)",
   "language": "python",
   "name": "python3"
  },
  "language_info": {
   "codemirror_mode": {
    "name": "ipython",
    "version": 3
   },
   "file_extension": ".py",
   "mimetype": "text/x-python",
   "name": "python",
   "nbconvert_exporter": "python",
   "pygments_lexer": "ipython3",
   "version": "3.12.7"
  }
 },
 "nbformat": 4,
 "nbformat_minor": 5
}
